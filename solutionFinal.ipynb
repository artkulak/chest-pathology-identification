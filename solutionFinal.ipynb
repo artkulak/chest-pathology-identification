{
 "cells": [
  {
   "cell_type": "code",
   "execution_count": 1,
   "metadata": {
    "_cell_guid": "b1076dfc-b9ad-4769-8c92-a6c4dae69d19",
    "_uuid": "8f2839f25d086af736a60e9eeb907d3b93b6e0e5"
   },
   "outputs": [
    {
     "name": "stderr",
     "output_type": "stream",
     "text": [
      "Using TensorFlow backend.\n",
      "C:\\Anaconda3\\lib\\site-packages\\tensorflow\\python\\framework\\dtypes.py:526: FutureWarning: Passing (type, 1) or '1type' as a synonym of type is deprecated; in a future version of numpy, it will be understood as (type, (1,)) / '(1,)type'.\n",
      "  _np_qint8 = np.dtype([(\"qint8\", np.int8, 1)])\n",
      "C:\\Anaconda3\\lib\\site-packages\\tensorflow\\python\\framework\\dtypes.py:527: FutureWarning: Passing (type, 1) or '1type' as a synonym of type is deprecated; in a future version of numpy, it will be understood as (type, (1,)) / '(1,)type'.\n",
      "  _np_quint8 = np.dtype([(\"quint8\", np.uint8, 1)])\n",
      "C:\\Anaconda3\\lib\\site-packages\\tensorflow\\python\\framework\\dtypes.py:528: FutureWarning: Passing (type, 1) or '1type' as a synonym of type is deprecated; in a future version of numpy, it will be understood as (type, (1,)) / '(1,)type'.\n",
      "  _np_qint16 = np.dtype([(\"qint16\", np.int16, 1)])\n",
      "C:\\Anaconda3\\lib\\site-packages\\tensorflow\\python\\framework\\dtypes.py:529: FutureWarning: Passing (type, 1) or '1type' as a synonym of type is deprecated; in a future version of numpy, it will be understood as (type, (1,)) / '(1,)type'.\n",
      "  _np_quint16 = np.dtype([(\"quint16\", np.uint16, 1)])\n",
      "C:\\Anaconda3\\lib\\site-packages\\tensorflow\\python\\framework\\dtypes.py:530: FutureWarning: Passing (type, 1) or '1type' as a synonym of type is deprecated; in a future version of numpy, it will be understood as (type, (1,)) / '(1,)type'.\n",
      "  _np_qint32 = np.dtype([(\"qint32\", np.int32, 1)])\n",
      "C:\\Anaconda3\\lib\\site-packages\\tensorflow\\python\\framework\\dtypes.py:535: FutureWarning: Passing (type, 1) or '1type' as a synonym of type is deprecated; in a future version of numpy, it will be understood as (type, (1,)) / '(1,)type'.\n",
      "  np_resource = np.dtype([(\"resource\", np.ubyte, 1)])\n"
     ]
    }
   ],
   "source": [
    "# Main imports\n",
    "import numpy as np \n",
    "import pandas as pd \n",
    "import os\n",
    "import cv2\n",
    "from tqdm import tqdm_notebook\n",
    "import gc\n",
    "\n",
    "from warnings import filterwarnings\n",
    "\n",
    "# ML Imports\n",
    "from sklearn.cluster import KMeans\n",
    "from sklearn.preprocessing import LabelEncoder\n",
    "\n",
    "# from keras.applications.vgg19 import VGG19\n",
    "# from keras.applications.mobilenet import MobileNet\n",
    "from keras.models import Model, Sequential\n",
    "import keras.backend as K\n",
    "import keras.layers as L\n",
    "\n",
    "\n",
    "filterwarnings('ignore')\n",
    "\n",
    "PATH = ''\n",
    "IMAGE_PATH = 'chestImagesBiClass/'\n",
    "RND_SEED = 13"
   ]
  },
  {
   "cell_type": "markdown",
   "metadata": {},
   "source": [
    "### Extracting CNN Features"
   ]
  },
  {
   "cell_type": "code",
   "execution_count": 2,
   "metadata": {},
   "outputs": [
    {
     "name": "stdout",
     "output_type": "stream",
     "text": [
      "WARNING:tensorflow:From C:\\Anaconda3\\lib\\site-packages\\tensorflow\\python\\framework\\op_def_library.py:263: colocate_with (from tensorflow.python.framework.ops) is deprecated and will be removed in a future version.\n",
      "Instructions for updating:\n",
      "Colocations handled automatically by placer.\n"
     ]
    }
   ],
   "source": [
    "# Building separate models to extract decaf features from the intermidiate layer of VGG19\n",
    "def build_decaf(net, i):\n",
    "    decaf = Model(inputs=net.input,outputs=net.layers[i].output)\n",
    "    return decaf"
   ]
  },
  {
   "cell_type": "code",
   "execution_count": 3,
   "metadata": {},
   "outputs": [],
   "source": [
    "# Create a CNN model for feature extraction\n",
    "\n",
    "input_shape = (224, 224, 3)\n",
    "model = Sequential()\n",
    "model.add(L.Conv2D(32, (3, 3), input_shape=input_shape, activation = 'relu'))\n",
    "model.add(L.MaxPooling2D(pool_size=(2, 2)))\n",
    "\n",
    "model.add(L.Conv2D(32, (3, 3), activation = 'relu'))\n",
    "model.add(L.MaxPooling2D(pool_size=(2, 2)))\n",
    "\n",
    "model.add(L.Conv2D(64, (3, 3), activation = 'relu'))\n",
    "model.add(L.MaxPooling2D(pool_size=(2, 2)))\n",
    "\n",
    "model.add(L.Flatten())\n",
    "model.add(L.Dense(256, activation = 'relu'))\n",
    "model.add(L.Dense(128, activation = 'relu'))\n",
    "model.add(L.Dense(32, activation = 'relu'))\n",
    "model.add(L.Dense(1, activation = 'sigmoid'))\n",
    "    \n",
    "model.compile(optimizer = 'rmsprop', loss = 'binary_crossentropy', metrics = ['accuracy'])"
   ]
  },
  {
   "cell_type": "code",
   "execution_count": 12,
   "metadata": {},
   "outputs": [
    {
     "data": {
      "application/vnd.jupyter.widget-view+json": {
       "model_id": "ac201cac52f3402bbc3c1eba0a699974",
       "version_major": 2,
       "version_minor": 0
      },
      "text/plain": [
       "HBox(children=(IntProgress(value=0, max=1341), HTML(value='')))"
      ]
     },
     "metadata": {},
     "output_type": "display_data"
    },
    {
     "name": "stdout",
     "output_type": "stream",
     "text": [
      "\n"
     ]
    },
    {
     "data": {
      "application/vnd.jupyter.widget-view+json": {
       "model_id": "f2d1ac141b214d45880d6dd3ef3e34b5",
       "version_major": 2,
       "version_minor": 0
      },
      "text/plain": [
       "HBox(children=(IntProgress(value=0, max=3875), HTML(value='')))"
      ]
     },
     "metadata": {},
     "output_type": "display_data"
    },
    {
     "name": "stdout",
     "output_type": "stream",
     "text": [
      "\n"
     ]
    }
   ],
   "source": [
    "from keras.utils import to_categorical\n",
    "images = []\n",
    "labels = []\n",
    "\n",
    "# Extract data and labels from 2 file folders\n",
    "image_paths = []\n",
    "for img in tqdm_notebook(os.listdir(IMAGE_PATH + 'NORMAL/')):\n",
    "    image_paths.append(IMAGE_PATH + 'NORMAL/' + img)\n",
    "    im = cv2.imread(IMAGE_PATH + 'NORMAL/' + img)\n",
    "    im = cv2.resize(im, (224, 224)).reshape(224, 224, 3)\n",
    "    images.append(im)\n",
    "    labels.append(0)\n",
    "    \n",
    "for img in tqdm_notebook(os.listdir(IMAGE_PATH + 'PNEUMONIA/')):\n",
    "    if np.random.rand() < 0.3:\n",
    "        image_paths.append(IMAGE_PATH + 'PNEUMONIA/' + img)\n",
    "        im = cv2.imread(IMAGE_PATH + 'PNEUMONIA/' + img)\n",
    "        im = cv2.resize(im, (224, 224)).reshape(224, 224, 3)\n",
    "        images.append(im)\n",
    "        labels.append(1)\n",
    "images = np.asarray(images) / 255.\n",
    "labels = np.asarray(labels)"
   ]
  },
  {
   "cell_type": "code",
   "execution_count": 8,
   "metadata": {},
   "outputs": [
    {
     "name": "stdout",
     "output_type": "stream",
     "text": [
      "Epoch 1/10\n",
      " - 7s - loss: 0.5237 - acc: 0.7540\n",
      "Epoch 2/10\n",
      " - 7s - loss: 0.2297 - acc: 0.9152\n",
      "Epoch 3/10\n",
      " - 7s - loss: 0.1797 - acc: 0.9333\n",
      "Epoch 4/10\n",
      " - 7s - loss: 0.1215 - acc: 0.9562\n",
      "Epoch 5/10\n",
      " - 7s - loss: 0.1005 - acc: 0.9630\n",
      "Epoch 6/10\n",
      " - 7s - loss: 0.0713 - acc: 0.9767\n",
      "Epoch 7/10\n",
      " - 7s - loss: 0.0805 - acc: 0.9715\n",
      "Epoch 8/10\n",
      " - 7s - loss: 0.0565 - acc: 0.9815\n",
      "Epoch 9/10\n",
      " - 7s - loss: 0.0618 - acc: 0.9791\n",
      "Epoch 10/10\n",
      " - 7s - loss: 0.0532 - acc: 0.9831\n"
     ]
    },
    {
     "data": {
      "text/plain": [
       "<keras.callbacks.History at 0x2db02c9940>"
      ]
     },
     "execution_count": 8,
     "metadata": {},
     "output_type": "execute_result"
    }
   ],
   "source": [
    "# Train the feature extracting CNN\n",
    "model.fit(images, labels, batch_size = 32, epochs = 10, verbose = 2)"
   ]
  },
  {
   "cell_type": "code",
   "execution_count": 14,
   "metadata": {},
   "outputs": [],
   "source": [
    "# Make a separate model for each of the Dense layers, to extract intermidiate layer information\n",
    "decaf5 = build_decaf(model, -4)\n",
    "decaf6 = build_decaf(model, -3)\n",
    "decaf7 = build_decaf(model, -2)"
   ]
  },
  {
   "cell_type": "code",
   "execution_count": 16,
   "metadata": {},
   "outputs": [
    {
     "data": {
      "application/vnd.jupyter.widget-view+json": {
       "model_id": "284f4fc95def4d90894cc2b7f79cbb6b",
       "version_major": 2,
       "version_minor": 0
      },
      "text/plain": [
       "HBox(children=(IntProgress(value=0, max=2488), HTML(value='')))"
      ]
     },
     "metadata": {},
     "output_type": "display_data"
    }
   ],
   "source": [
    "# Extracting decaf5, decaf6, decaf7 features from the intermidiate layers\n",
    "imageFeatures = []\n",
    "for img in tqdm_notebook(image_paths):\n",
    "    im = cv2.imread(img) \n",
    "    im = cv2.resize(im, (224, 224)).reshape(1, 224, 224, 3) / 255.\n",
    "    decaf5_out=decaf5.predict(im)\n",
    "    decaf6_out=decaf6.predict(im)\n",
    "    decaf7_out=decaf7.predict(im)\n",
    "\n",
    "    decafFeatures = np.concatenate([decaf5_out, decaf6_out, decaf7_out], axis = 1)\n",
    "    imageFeatures.append(decafFeatures)\n",
    "    \n",
    "    \n",
    "imageFeatures = np.asarray(imageFeatures)\n",
    "imageFeatures = np.squeeze(imageFeatures, 1)"
   ]
  },
  {
   "cell_type": "markdown",
   "metadata": {},
   "source": [
    "### Extracting GIST Features"
   ]
  },
  {
   "cell_type": "code",
   "execution_count": 19,
   "metadata": {},
   "outputs": [
    {
     "data": {
      "application/vnd.jupyter.widget-view+json": {
       "model_id": "9f956f91f25a47e4a27dd8304fd9f0f4",
       "version_major": 2,
       "version_minor": 0
      },
      "text/plain": [
       "HBox(children=(IntProgress(value=0, max=2488), HTML(value='')))"
      ]
     },
     "metadata": {},
     "output_type": "display_data"
    }
   ],
   "source": [
    "import matlab\n",
    "from matlab import engine\n",
    "gistFeatures = []\n",
    "eng = matlab.engine.start_matlab()\n",
    "\n",
    "# Extractring GIST features from images\n",
    "for img in tqdm_notebook(image_paths):\n",
    "    im = cv2.imread(img)\n",
    "    im = cv2.resize(im, (64, 64)) / 255\n",
    "    im =  matlab.double(im.tolist())\n",
    "    gist = list(eng.extract_gist(im)[0])\n",
    "    gistFeatures.append(gist)\n",
    "    \n",
    "gistFeatures = np.asarray(gistFeatures)"
   ]
  },
  {
   "cell_type": "markdown",
   "metadata": {},
   "source": [
    "### Extracting BOVW Features"
   ]
  },
  {
   "cell_type": "code",
   "execution_count": 23,
   "metadata": {},
   "outputs": [],
   "source": [
    "import cv2\n",
    "extractor = cv2.xfeatures2d.SIFT_create()\n",
    "\n",
    "def features(image, extractor):\n",
    "    keypoints, descriptors = extractor.detectAndCompute(image, None)\n",
    "    return keypoints, descriptors"
   ]
  },
  {
   "cell_type": "code",
   "execution_count": 28,
   "metadata": {},
   "outputs": [
    {
     "data": {
      "application/vnd.jupyter.widget-view+json": {
       "model_id": "27232e92f6954d2bbdb15287fb491286",
       "version_major": 2,
       "version_minor": 0
      },
      "text/plain": [
       "HBox(children=(IntProgress(value=0, max=2488), HTML(value='')))"
      ]
     },
     "metadata": {},
     "output_type": "display_data"
    },
    {
     "data": {
      "text/plain": [
       "53"
      ]
     },
     "execution_count": 28,
     "metadata": {},
     "output_type": "execute_result"
    }
   ],
   "source": [
    "allDescriptors = np.array([])\n",
    "\n",
    "# Extracting SIFT features from each image\n",
    "for img in tqdm_notebook(image_paths):\n",
    "    im = cv2.imread(img)\n",
    "    im = cv2.resize(im, (224, 224))\n",
    "    keypoints, descriptors = features(im, extractor)\n",
    "    if allDescriptors.shape[0] == 0:\n",
    "        allDescriptors = descriptors\n",
    "    else:\n",
    "        allDescriptors = np.concatenate([allDescriptors, descriptors], axis = 0)\n",
    "gc.collect()"
   ]
  },
  {
   "cell_type": "code",
   "execution_count": 40,
   "metadata": {},
   "outputs": [
    {
     "data": {
      "application/vnd.jupyter.widget-view+json": {
       "model_id": "931a5fa13adc4e49ad3fa4e3172c50ae",
       "version_major": 2,
       "version_minor": 0
      },
      "text/plain": [
       "HBox(children=(IntProgress(value=1, bar_style='info', max=1), HTML(value='')))"
      ]
     },
     "metadata": {},
     "output_type": "display_data"
    },
    {
     "data": {
      "text/plain": [
       "117"
      ]
     },
     "execution_count": 40,
     "metadata": {},
     "output_type": "execute_result"
    }
   ],
   "source": [
    "from sklearn.cluster import KMeans\n",
    "nFeatures = 500\n",
    "km = KMeans(n_clusters = nFeatures)\n",
    "km.fit(allDescriptors[:10000])\n",
    "bovwFeatures = np.zeros((labels.shape[0], nFeatures))\n",
    "\n",
    "# Combining all SIFT features into the dataset and fitting KMeans clustering to extract 1000 clusters, after that\n",
    "# making a histogram for each image - which is are the gist features\n",
    "\n",
    "for index, img in tqdm_notebook(enumerate(image_paths)):\n",
    "    im = cv2.imread(img)\n",
    "    im = cv2.resize(im, (224, 224))\n",
    "    keypoints, descriptors = features(im, extractor)\n",
    "    \n",
    "    LABELS = km.predict(descriptors)\n",
    "    for lab in LABELS:\n",
    "        bovwFeatures[index, lab] += 1\n",
    "gc.collect()"
   ]
  },
  {
   "cell_type": "markdown",
   "metadata": {},
   "source": [
    "### Feature selection using Kruskal-Wallis non parametric test"
   ]
  },
  {
   "cell_type": "code",
   "execution_count": 41,
   "metadata": {},
   "outputs": [],
   "source": [
    "from sklearn.preprocessing import LabelEncoder\n",
    "\n",
    "# Concatenating all the features from previous steps\n",
    "finalFeatures = np.concatenate([imageFeatures, gistFeatures, bovwFeatures], axis = 1)"
   ]
  },
  {
   "cell_type": "code",
   "execution_count": 79,
   "metadata": {},
   "outputs": [],
   "source": [
    "from sklearn.feature_selection import SelectKBest, f_classif\n",
    "\n",
    "# Selecting best k features using Kruskal-Wallis (ANOVA) test\n",
    "selector = SelectKBest(f_classif, k=500)\n",
    "\n",
    "selectedFeatures = selector.fit_transform(finalFeatures, labels)"
   ]
  },
  {
   "cell_type": "markdown",
   "metadata": {},
   "source": [
    "### Label prediction and Model Evaluation"
   ]
  },
  {
   "cell_type": "code",
   "execution_count": 80,
   "metadata": {},
   "outputs": [],
   "source": [
    "from sklearn.svm import SVC\n",
    "from sklearn.model_selection import train_test_split\n",
    "from sklearn.linear_model import LogisticRegression\n",
    "from sklearn.tree import DecisionTreeClassifier\n",
    "\n",
    "# Fitting and predicting using SVM model with a non-linear kernel\n",
    "model = SVC(kernel='poly')\n",
    "X_train, X_test, y_train, y_test = train_test_split(selectedFeatures, labels, train_size = 0.5, random_state = RND_SEED, shuffle = True)\n",
    "model.fit(X_train, y_train)\n",
    "y_pred = model.predict(X_test)"
   ]
  },
  {
   "cell_type": "code",
   "execution_count": 81,
   "metadata": {},
   "outputs": [
    {
     "data": {
      "image/png": "[encoded data removed]",
      "text/plain": [
       "<Figure size 432x288 with 1 Axes>"
      ]
     },
     "metadata": {
      "needs_background": "light"
     },
     "output_type": "display_data"
    },
    {
     "name": "stdout",
     "output_type": "stream",
     "text": [
      "ROC AUC Score is 0.9767641996557659\n"
     ]
    }
   ],
   "source": [
    "from sklearn.metrics import roc_auc_score, roc_curve\n",
    "import matplotlib.pyplot as plt\n",
    "%matplotlib inline\n",
    "\n",
    "fpr, tpr, _ = roc_curve(y_test,  y_pred)\n",
    "auc = roc_auc_score(y_test, y_pred)\n",
    "plt.plot(fpr,tpr,label=\"ROC CURVE, auc=\"+str(auc))\n",
    "plt.legend(loc=4)\n",
    "plt.show()\n",
    "\n",
    "print(f'ROC AUC Score is {auc}')"
   ]
  }
 ],
 "metadata": {
  "kernelspec": {
   "display_name": "Python 3",
   "language": "python",
   "name": "python3"
  },
  "language_info": {
   "codemirror_mode": {
    "name": "ipython",
    "version": 3
   },
   "file_extension": ".py",
   "mimetype": "text/x-python",
   "name": "python",
   "nbconvert_exporter": "python",
   "pygments_lexer": "ipython3",
   "version": "3.6.6"
  }
 },
 "nbformat": 4,
 "nbformat_minor": 1
}
